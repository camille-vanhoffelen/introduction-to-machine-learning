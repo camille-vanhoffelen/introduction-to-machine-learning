{
 "cells": [
  {
   "cell_type": "markdown",
   "metadata": {},
   "source": [
    "# Lecture 2.6: Data Visualization\n",
    "\n",
    "[**Lecture Slides**](https://docs.google.com/presentation/d/1CFFTL2ulybHNXumfG37I_TfKSMQhu2tc4sq-iZMPecY/edit?usp=sharing)\n",
    "\n",
    "This lecture, we are going to do basic data visualization with [matplotlib](https://matplotlib.org/).\n",
    "\n",
    "**Learning goals:**\n",
    "\n",
    "- differentiate between pandas & matplotlib plotting\n",
    "- use the object-oriented api\n",
    "- create a distribution bar chart\n",
    "- manipulate plot formatting\n",
    "- create a violin plot\n",
    "\n",
    "## More Pokemon\n",
    "\n",
    "Professor Oak has given us a mission. He would like us to explore the pokedex to find the best type of pokemon. He isn't very clear about what _best_ means though... He's confident about the fact that a pokemon with higher `Total` stat is better, but he's not sure what that means for an entire `Type 1`. The highest average `Total`? The max value? Since this is broad question, it requires a broad answer: we decide to provide him with _insights_ into the \"goodness\" of pokemon types.\n",
    "\n",
    "Let's revisit the dataset used for assignment 1:\n"
   ]
  },
  {
   "cell_type": "code",
   "execution_count": null,
   "metadata": {},
   "outputs": [],
   "source": [
    "import pandas as pd\n",
    "import numpy as np\n",
    "\n",
    "df = pd.read_csv('pokemons.csv')\n",
    "df.head()"
   ]
  },
  {
   "cell_type": "markdown",
   "metadata": {},
   "source": [
    "Let's find out which `Type 1` are the most popular:"
   ]
  },
  {
   "cell_type": "code",
   "execution_count": null,
   "metadata": {},
   "outputs": [],
   "source": [
    "df['Type 1'].value_counts()"
   ]
  },
  {
   "cell_type": "markdown",
   "metadata": {},
   "source": [
    "The values are quite varied! It's hard to compare them. We are still in the data _exploration_ phase, but we can still use plots to our advantage: let's visualize these values in a [horizontal bar chart](https://pandas.pydata.org/pandas-docs/stable/reference/api/pandas.Series.plot.barh.html):"
   ]
  },
  {
   "cell_type": "code",
   "execution_count": null,
   "metadata": {},
   "outputs": [],
   "source": [
    "df['Type 1'].value_counts()[::-1].plot.barh()"
   ]
  },
  {
   "cell_type": "markdown",
   "metadata": {},
   "source": [
    "Much easier to compare the values! The horinzontal alignment of the bars allow our brains to do the \"fast math\" unconsciously 🚀\n",
    "\n",
    "Now that we've explored the pokemon types, we decide that we want to _communicate_ to Professor Oak the `Total` distribution of the most common type: `Water`. Since this isn't exploration anymore, let's do things properly and use matplotlib! But first, let's select the rows for which `Type 1 == Water`:"
   ]
  },
  {
   "cell_type": "code",
   "execution_count": null,
   "metadata": {},
   "outputs": [],
   "source": [
    "def get_type(df, type_name):\n",
    "    return df[df['Type 1'] == type_name]\n",
    "\n",
    "water_df = get_type(df, 'Water')"
   ]
  },
  {
   "cell_type": "markdown",
   "metadata": {},
   "source": [
    "The pandas `plot` api actually uses matplotlib in the back, wrapped directly as a `Dataframe` method for convenience. But using matplotlib directly will give us more control over the graph. To do so, let's import matplotlib as `plt`. Again, this is a convention, so please follow it! 🙇‍♂️"
   ]
  },
  {
   "cell_type": "code",
   "execution_count": null,
   "metadata": {},
   "outputs": [],
   "source": [
    "import matplotlib.pyplot as plt"
   ]
  },
  {
   "cell_type": "markdown",
   "metadata": {},
   "source": [
    "matplotlib has two parallel apis that lead to the same results. We'll chose the [object-oriented api](https://matplotlib.org/3.1.3/api/index.html#the-object-oriented-api) because we are not savages. First, we need to create a [figure](https://matplotlib.org/3.2.1/api/_as_gen/matplotlib.pyplot.figure.html) object. This `fig` represents the canvas we are using to plot our graph. Then we add a `subplot` to this canvas. The method returns an [`axes`](https://matplotlib.org/api/axes_api.html) object which is the key to all of matplotlib's methods and functionality. For example, it allows us to then directly call the [`.hist()`](https://matplotlib.org/api/_as_gen/matplotlib.axes.Axes.hist.html#matplotlib.axes.Axes.hist) method to plot our `Water` types distribution:"
   ]
  },
  {
   "cell_type": "code",
   "execution_count": null,
   "metadata": {},
   "outputs": [],
   "source": [
    "# make canvas\n",
    "fig = plt.figure()\n",
    "# add subplot\n",
    "ax = fig.add_subplot(111)\n",
    "# plot histogram\n",
    "ax.hist(water_df['Total'])"
   ]
  },
  {
   "cell_type": "markdown",
   "metadata": {},
   "source": [
    "Now this graph isn't much prettier than if we ran it straight through pandas... Let's use matplotlib's formatting features to liven it up a little:"
   ]
  },
  {
   "cell_type": "code",
   "execution_count": null,
   "metadata": {},
   "outputs": [],
   "source": [
    "import matplotlib.ticker as ticker\n",
    "\n",
    "fig = plt.figure()\n",
    "ax = fig.add_subplot(111)\n",
    "ax.hist(water_df['Total'], bins=20, color='deepskyblue')\n",
    "ax.set_title('Distribution of \"Total\" stat for Pokemons of \"Type 1\" Water')\n",
    "ax.set_xlabel(\"Total\", size=12)\n",
    "ax.tick_params(axis='both', which='major', labelsize=12)\n",
    "ax.yaxis.set_major_locator(ticker.MultipleLocator(5))"
   ]
  },
  {
   "cell_type": "markdown",
   "metadata": {},
   "source": [
    "That's a little bit better! At least we now have a title and labels, so that the graph is understandable to someone unfamiliar with our task. Notice how reducing the bin size was important to reveal the smaller scale patterns in the distribution. Displaying the larger size was misleading, and for example hid the outlier with `Total > 700` 🐋\n",
    "\n",
    "🧠 Can you think of other things we could improve about this graph? Revisit the lecture slides if you have doubts.\n",
    "\n",
    "Professor Oak is interested by the water distribution. But now, he wonders how it compares to other types. But that's a lot of histograms! How can we combine them or juxtapose them? Let's use the data to viz [website](https://www.data-to-viz.com/) to help us choose a graph type. Under \"several numeric\" & \"not ordered\" data, we can find box plots. That would be a way to compare the `Total` distribution of types, but remember from the slides that it's always better to show full distributions rather than error bars. So instead, let's make a violin plot 🎻"
   ]
  },
  {
   "cell_type": "code",
   "execution_count": null,
   "metadata": {},
   "outputs": [],
   "source": [
    "types = ['Water', 'Normal', 'Grass']\n",
    "dfs = [get_type(df, t) for t in types]\n",
    "arrays = [d['Total'].values for d in dfs]\n",
    "    "
   ]
  },
  {
   "cell_type": "code",
   "execution_count": null,
   "metadata": {},
   "outputs": [],
   "source": [
    "fig = plt.figure()\n",
    "ax = fig.add_subplot(111)\n",
    "ax.violinplot(arrays, [1, 2, 3], points=60, widths=0.7, showmeans=False,\n",
    "                      showextrema=True, showmedians=True, bw_method=0.5);"
   ]
  },
  {
   "cell_type": "markdown",
   "metadata": {},
   "source": [
    "🧠 Can you think of any other interesting graph types that can used for the pokemon dataset?\n",
    "Pro-tip: use this [blog](https://www.data-to-viz.com/) to get ideas\n",
    "\n",
    "💪💪 Plot a [stacked bar chart](https://matplotlib.org/3.1.3/gallery/lines_bars_and_markers/bar_stacked.html). As x axis, use the `Generation`, and split the bars into the 4 most popular `Type 1`s. The bar lengths should represent the counts of pokemons of that `Type 1` for that `Generation`.\n",
    "Pro-tip: read the api carefully, and don't hesitate to google some details! Matplotlib is notorious for being the subject of many stackoverflow posts...\n",
    "\n",
    "There are [_many_](https://github.com/fasouto/awesome-dataviz#python-tools) python plotting libraries that we have not covered during this lecture. You will have the chance to explore them and decide which you prefer. But here's a little trick in the meantime: [seaborn](https://seaborn.pydata.org/) is built on top of matplotlib, and makes it trivial to spice up our graphs:"
   ]
  },
  {
   "cell_type": "code",
   "execution_count": null,
   "metadata": {},
   "outputs": [],
   "source": [
    "import seaborn as sb\n",
    "sb.set()\n",
    "\n",
    "fig = plt.figure()\n",
    "ax = fig.add_subplot(111)\n",
    "ax.hist(get_type(df, 'Psychic')['Total'], color='mediumorchid');"
   ]
  },
  {
   "cell_type": "markdown",
   "metadata": {},
   "source": [
    "Just `import seaborn` and `sb.set()` and we're good to go! The library also has its own api, you can see some example [here](https://seaborn.pydata.org/examples/index.html)."
   ]
  },
  {
   "cell_type": "markdown",
   "metadata": {},
   "source": [
    "## Summary\n",
    "\n",
    "Today was our introduction to **data visualization**. We learned the difference between **data literacy** and **visual literacy**, and why those are so important to data science. We learned tricks and good practices to improve our **data story-telling**. For example, we now know that **minimalism** in graph design makes for clear and concise plots. We also saw how **colors**, **text**, and **conventions** all matter to convey information effectively. We identified how visualization can be used for both data **exploration** and **communication**, and highlighted the workflow differences between the two. Finally, we revisited our pokemon trainer ambitions and compared distributions with customized **violin plots** in **matplotlib**.\n",
    "\n",
    "This concludes our section on data exploration! 🎊Next week, we start data analysis with a lesson on clustering.\n",
    "\n",
    "\n",
    "# Resources\n",
    "\n",
    "\n",
    "### Core Resources\n",
    "\n",
    "- [**Slides**](https://docs.google.com/presentation/d/1CFFTL2ulybHNXumfG37I_TfKSMQhu2tc4sq-iZMPecY/edit?usp=sharing)\n",
    "- [matplotlib tutorial](https://nbviewer.jupyter.org/github/jrjohansson/scientific-python-lectures/blob/master/Lecture-4-Matplotlib.ipynb)  \n",
    "A jupyter notebook introduction to matplotlib\n",
    "- [Data visualization methods in python](https://machinelearningmastery.com/data-visualization-methods-in-python/)   \n",
    "Breakdown of common matplotlib graphs\n",
    "- [Dataviz blog](https://www.data-to-viz.com)  \n",
    "Excellent portal of useful data viz resources, including a decision tree to choose graphs, and a list of typical graph caveats\n",
    "\n",
    "### Additional Resources\n",
    "\n",
    "- [The python graph gallery](https://python-graph-gallery.com/)  \n",
    "Example of many beautiful python graphs\n",
    "- [Data science cheat sheet - data visualization](https://github.com/abhat222/Data-Science--Cheat-Sheet/tree/master/Data%20Visualization)  \n",
    "List of resources for data visualization\n",
    "- [Analytics storytelling for impact](https://www.edx.org/course/analytics-storytelling-for-impact-2)  \n",
    "Free course to craft data analytics communication with storytelling\n",
    "- [The best stats you've ever seen](https://youtu.be/usdJgEwMinM)  \n",
    "Classic TED talk from one of the greats of data visualization, Hans Rosling\n",
    "- [visualisingdata](https://www.visualisingdata.com/)  \n",
    "Great blog/portal for all things visualisation, including a monthly digest of the best data viz on the web\n",
    "- [Color theory dos and donts for data visualization](https://infogram.com/blog/color-theory-dos-and-donts-for-data-visualization/)  \n",
    "Guidelines for choosing colors for your graphs\n",
    "- [Data looks better naked](https://www.darkhorseanalytics.com/blog/data-looks-better-naked)  \n",
    "Source of \"data minimalism\" gif in the slides\n",
    "- [Python data visualization demos](https://www.kaggle.com/benhamner/python-data-visualizations)  \n",
    "Great examples of matplotlib graphs on the iris dataset\n",
    "- [Analysis of OK Cupid dataset with matplotlib](https://nbviewer.jupyter.org/github/lalelale/profiles_analysis/blob/master/profiles.ipynb)  \n",
    "Great examples of matplotlib graphs on an OK Cupid dataset\n",
    "- [The visual display of quantitative information](https://www.amazon.com/Visual-Display-Quantitative-Information/dp/0961392142/ref=as_li_ss_tl?ie=UTF8&qid=1521082239&sr=8-16&keywords=data+visualization&linkCode=sl1&tag=inspiredalgor-20&linkId=cd8082f9213b87a44ec7207ba162d89a)  \n",
    "The holy book of Data Visualization, beautiful and captivating\n",
    "- [Big data visualization](https://youtu.be/WWKxzjKzN3A)  \n",
    "Siraj on data viz\n",
    "- [WTF visualizations](https://viz.wtf/)  \n",
    "Examples of what _not_ to do with your graphs\n",
    "- [How to choose the correct visualization tool](https://source.opennews.org/articles/what-i-learned-recreating-one-chart-using-24-tools/)  \n",
    "Comparison of 24 plotting frameworks"
   ]
  }
 ],
 "metadata": {
  "kernelspec": {
   "display_name": "Python 3",
   "language": "python",
   "name": "python3"
  },
  "language_info": {
   "codemirror_mode": {
    "name": "ipython",
    "version": 3
   },
   "file_extension": ".py",
   "mimetype": "text/x-python",
   "name": "python",
   "nbconvert_exporter": "python",
   "pygments_lexer": "ipython3",
   "version": "3.8.2"
  }
 },
 "nbformat": 4,
 "nbformat_minor": 4
}
