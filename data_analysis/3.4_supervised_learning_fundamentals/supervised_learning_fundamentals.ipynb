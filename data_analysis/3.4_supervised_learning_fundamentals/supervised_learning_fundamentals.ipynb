{
 "cells": [
  {
   "cell_type": "markdown",
   "metadata": {},
   "source": [
    "# Lecture 3.4: Supervised Learning Fundamentals\n",
    "\n",
    "[**Lecture Slides**](https://docs.google.com/presentation/d/1B_LZE7phPDATCP8plnw8iCwFZGQch0n48TLsVtF8wdE/edit?usp=sharing)\n",
    "\n",
    "This lecture, no notebook :) \n",
    "\n",
    "**Learning goals:**\n",
    "\n",
    "- introduce and compare classification and regression tasks\n",
    "- explain why classification and regression fare better with supervised methods\n",
    "- define features & labels\n",
    "- introduce mathematical notation: feature matrices & label vectors\n",
    "- describe practical differences of supervised vs unsupervised\n",
    "- compare classification to anomaly detection (amount of data, more defined classes, supervised)\n",
    "- basics of optimisation procedures\n",
    "\n",
    "\n",
    "## Core Resources\n",
    "\n",
    "- [**Slides**](https://docs.google.com/presentation/d/1B_LZE7phPDATCP8plnw8iCwFZGQch0n48TLsVtF8wdE/edit?usp=sharing)  \n",
    "- [sklearn documentation - supervised learning](https://scikit-learn.org/stable/tutorial/statistical_inference/supervised_learning.html)"
   ]
  }
 ],
 "metadata": {
  "kernelspec": {
   "display_name": "Python 3",
   "language": "python",
   "name": "python3"
  },
  "language_info": {
   "codemirror_mode": {
    "name": "ipython",
    "version": 3
   },
   "file_extension": ".py",
   "mimetype": "text/x-python",
   "name": "python",
   "nbconvert_exporter": "python",
   "pygments_lexer": "ipython3",
   "version": "3.8.2"
  }
 },
 "nbformat": 4,
 "nbformat_minor": 4
}
