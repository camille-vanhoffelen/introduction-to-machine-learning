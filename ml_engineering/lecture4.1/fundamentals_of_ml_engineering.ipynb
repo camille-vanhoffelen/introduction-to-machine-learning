{
 "cells": [
  {
   "cell_type": "markdown",
   "metadata": {},
   "source": [
    "# Lecture 4.1: Fundamentals of ML Engineering\n",
    "\n",
    "[**Lecture Slides**](https://docs.google.com/presentation/d/1sBwLhmz9aE3WQe2_W4Lcta3GElQV5BItfpG3ArCH-Ng/edit?usp=sharing)\n",
    "\n",
    "This lecture, no notebook! 🕺\n",
    "\n",
    "**Learning goals:**\n",
    "- differentiate between data science, ML research, and ML engineering\n",
    "- understand ML's significance in software\n",
    "- highlight key differences between softare & ML engineering\n",
    "- underline the experimental nature of ML engineering\n",
    "- assess the feasibility of an ML project with a checklist\n",
    "- justify the challenges in measuring the quality of ML solutions\n",
    "\n",
    "# Resources\n",
    "\n",
    "## Core Resources\n",
    "\n",
    "- [**Slides**](https://docs.google.com/presentation/d/1sBwLhmz9aE3WQe2_W4Lcta3GElQV5BItfpG3ArCH-Ng/edit?usp=sharing)\n",
    "- [Software 2.0](https://medium.com/@karpathy/software-2-0-a64152b37c35)  \n",
    "Karpathy's famous post about ML as a new programming paradigm\n",
    "- [How to choose an A.I project](https://www.coursera.org/lecture/ai-for-everyone/how-to-choose-an-ai-project-part-1-XkLrV)  \n",
    "Andrew Ng giving tips on how to use ML to solve business problems\n",
    "- [Machine learning yearning](https://www.deeplearning.ai/machine-learning-yearning/)  \n",
    "The reference for all things practical ML\n"
   ]
  }
 ],
 "metadata": {
  "kernelspec": {
   "display_name": "Python 3",
   "language": "python",
   "name": "python3"
  },
  "language_info": {
   "codemirror_mode": {
    "name": "ipython",
    "version": 3
   },
   "file_extension": ".py",
   "mimetype": "text/x-python",
   "name": "python",
   "nbconvert_exporter": "python",
   "pygments_lexer": "ipython3",
   "version": "3.8.2"
  }
 },
 "nbformat": 4,
 "nbformat_minor": 4
}
